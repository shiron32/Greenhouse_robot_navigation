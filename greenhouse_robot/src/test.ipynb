{
 "cells": [
  {
   "cell_type": "code",
   "execution_count": 32,
   "metadata": {},
   "outputs": [],
   "source": [
    "import numpy as np\n",
    "import pandas as pd"
   ]
  },
  {
   "cell_type": "code",
   "execution_count": 33,
   "metadata": {},
   "outputs": [],
   "source": [
    "df = pd.read_csv(\"./../datasets/recorded_data.csv\")"
   ]
  },
  {
   "cell_type": "code",
   "execution_count": 34,
   "metadata": {},
   "outputs": [
    {
     "data": {
      "text/html": [
       "<div>\n",
       "<style scoped>\n",
       "    .dataframe tbody tr th:only-of-type {\n",
       "        vertical-align: middle;\n",
       "    }\n",
       "\n",
       "    .dataframe tbody tr th {\n",
       "        vertical-align: top;\n",
       "    }\n",
       "\n",
       "    .dataframe thead th {\n",
       "        text-align: right;\n",
       "    }\n",
       "</style>\n",
       "<table border=\"1\" class=\"dataframe\">\n",
       "  <thead>\n",
       "    <tr style=\"text-align: right;\">\n",
       "      <th></th>\n",
       "      <th>localization_type</th>\n",
       "      <th>goal_point</th>\n",
       "      <th>poses_mean</th>\n",
       "      <th>poses_std</th>\n",
       "    </tr>\n",
       "  </thead>\n",
       "  <tbody>\n",
       "    <tr>\n",
       "      <th>0</th>\n",
       "      <td>AMCL</td>\n",
       "      <td>(5.570246696472168, -2.3043313026428223, 0.805...</td>\n",
       "      <td>[5.46227769681494, -2.3208065084874514, 1.8516...</td>\n",
       "      <td>[0.02605017582799503, 0.04841169730778431, 1.0...</td>\n",
       "    </tr>\n",
       "    <tr>\n",
       "      <th>1</th>\n",
       "      <td>AMCL</td>\n",
       "      <td>(5.570246696472168, -2.3043313026428223, 0.805...</td>\n",
       "      <td>[5.458440318180003, -2.3144022165525047, 2.919...</td>\n",
       "      <td>[0.023991125332221926, 0.04852346796687895, 1....</td>\n",
       "    </tr>\n",
       "    <tr>\n",
       "      <th>2</th>\n",
       "      <td>AMCL</td>\n",
       "      <td>(5.570246696472168, -2.3043313026428223, 0.805...</td>\n",
       "      <td>[5.289953671155203, -2.314626824891905, -0.414...</td>\n",
       "      <td>[0.04330016536812999, 0.04546421857413534, 1.2...</td>\n",
       "    </tr>\n",
       "    <tr>\n",
       "      <th>3</th>\n",
       "      <td>AMCL</td>\n",
       "      <td>(5.570246696472168, -2.3043313026428223, 0.805...</td>\n",
       "      <td>[5.450147473388377, -2.319681566374617, 7.9384...</td>\n",
       "      <td>[0.022645919831845863, 0.051745628821443325, 1...</td>\n",
       "    </tr>\n",
       "    <tr>\n",
       "      <th>4</th>\n",
       "      <td>AMCL</td>\n",
       "      <td>(5.570246696472168, -2.3043313026428223, 0.805...</td>\n",
       "      <td>[5.494351435796022, -2.28383048276242, -6.8848...</td>\n",
       "      <td>[0.023511126120538715, 0.03375086335138591, 0....</td>\n",
       "    </tr>\n",
       "  </tbody>\n",
       "</table>\n",
       "</div>"
      ],
      "text/plain": [
       "  localization_type                                         goal_point  \\\n",
       "0              AMCL  (5.570246696472168, -2.3043313026428223, 0.805...   \n",
       "1              AMCL  (5.570246696472168, -2.3043313026428223, 0.805...   \n",
       "2              AMCL  (5.570246696472168, -2.3043313026428223, 0.805...   \n",
       "3              AMCL  (5.570246696472168, -2.3043313026428223, 0.805...   \n",
       "4              AMCL  (5.570246696472168, -2.3043313026428223, 0.805...   \n",
       "\n",
       "                                          poses_mean  \\\n",
       "0  [5.46227769681494, -2.3208065084874514, 1.8516...   \n",
       "1  [5.458440318180003, -2.3144022165525047, 2.919...   \n",
       "2  [5.289953671155203, -2.314626824891905, -0.414...   \n",
       "3  [5.450147473388377, -2.319681566374617, 7.9384...   \n",
       "4  [5.494351435796022, -2.28383048276242, -6.8848...   \n",
       "\n",
       "                                           poses_std  \n",
       "0  [0.02605017582799503, 0.04841169730778431, 1.0...  \n",
       "1  [0.023991125332221926, 0.04852346796687895, 1....  \n",
       "2  [0.04330016536812999, 0.04546421857413534, 1.2...  \n",
       "3  [0.022645919831845863, 0.051745628821443325, 1...  \n",
       "4  [0.023511126120538715, 0.03375086335138591, 0....  "
      ]
     },
     "execution_count": 34,
     "metadata": {},
     "output_type": "execute_result"
    }
   ],
   "source": [
    "df"
   ]
  }
 ],
 "metadata": {
  "kernelspec": {
   "display_name": "Python 3",
   "language": "python",
   "name": "python3"
  },
  "language_info": {
   "codemirror_mode": {
    "name": "ipython",
    "version": 3
   },
   "file_extension": ".py",
   "mimetype": "text/x-python",
   "name": "python",
   "nbconvert_exporter": "python",
   "pygments_lexer": "ipython3",
   "version": "3.8.10"
  }
 },
 "nbformat": 4,
 "nbformat_minor": 2
}
